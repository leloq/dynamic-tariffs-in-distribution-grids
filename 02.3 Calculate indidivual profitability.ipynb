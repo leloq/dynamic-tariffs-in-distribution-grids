{
 "cells": [
  {
   "cell_type": "code",
   "execution_count": 1,
   "id": "414e7ce4",
   "metadata": {},
   "outputs": [],
   "source": [
    "import pandas as pd"
   ]
  },
  {
   "cell_type": "code",
   "execution_count": 2,
   "id": "dc7444f8",
   "metadata": {},
   "outputs": [
    {
     "name": "stderr",
     "output_type": "stream",
     "text": [
      "/Users/leosemmelmann/opt/anaconda3/lib/python3.8/site-packages/openpyxl/styles/stylesheet.py:226: UserWarning: Workbook contains no default style, apply openpyxl's default\n",
      "  warn(\"Workbook contains no default style, apply openpyxl's default\")\n"
     ]
    },
    {
     "data": {
      "text/html": [
       "<div>\n",
       "<style scoped>\n",
       "    .dataframe tbody tr th:only-of-type {\n",
       "        vertical-align: middle;\n",
       "    }\n",
       "\n",
       "    .dataframe tbody tr th {\n",
       "        vertical-align: top;\n",
       "    }\n",
       "\n",
       "    .dataframe thead th {\n",
       "        text-align: right;\n",
       "    }\n",
       "</style>\n",
       "<table border=\"1\" class=\"dataframe\">\n",
       "  <thead>\n",
       "    <tr style=\"text-align: right;\">\n",
       "      <th></th>\n",
       "      <th>Deutschland/Luxemburg [€/kWh]</th>\n",
       "    </tr>\n",
       "  </thead>\n",
       "  <tbody>\n",
       "    <tr>\n",
       "      <th>0</th>\n",
       "      <td>0.11987</td>\n",
       "    </tr>\n",
       "    <tr>\n",
       "      <th>1</th>\n",
       "      <td>0.11719</td>\n",
       "    </tr>\n",
       "    <tr>\n",
       "      <th>2</th>\n",
       "      <td>0.11368</td>\n",
       "    </tr>\n",
       "    <tr>\n",
       "      <th>3</th>\n",
       "      <td>0.11192</td>\n",
       "    </tr>\n",
       "    <tr>\n",
       "      <th>4</th>\n",
       "      <td>0.10939</td>\n",
       "    </tr>\n",
       "  </tbody>\n",
       "</table>\n",
       "</div>"
      ],
      "text/plain": [
       "   Deutschland/Luxemburg [€/kWh]\n",
       "0                        0.11987\n",
       "1                        0.11719\n",
       "2                        0.11368\n",
       "3                        0.11192\n",
       "4                        0.10939"
      ]
     },
     "execution_count": 2,
     "metadata": {},
     "output_type": "execute_result"
    }
   ],
   "source": [
    "# In a first step, the input prices are loaded. We take day-ahead GErman spot market prices\n",
    "\n",
    "df = pd.read_csv(\"./input/Hourly_EV_Charging.csv\") # only for index, the actual EV data is handled separatel\n",
    "df = df.iloc[:8760]\n",
    "\n",
    "df_price = pd.read_excel(\"./input/Gro_handelspreise_202101010000_202112312359_Stunde (2).xlsx\", skiprows=9)\n",
    "df_p = pd.DataFrame()\n",
    "df_p.index = df.index\n",
    "# MWh prices are transformed to kWh prices\n",
    "df_p[\"Deutschland/Luxemburg [€/kWh]\"] = df_price[\"Deutschland/Luxemburg [€/MWh]\"].apply(lambda x: x/1000).values\n",
    "min_price = df_p[\"Deutschland/Luxemburg [€/kWh]\"].min()\n",
    "df_p[\"Deutschland/Luxemburg [€/kWh]\"] = df_p[\"Deutschland/Luxemburg [€/kWh]\"].apply(lambda x: x+abs(min_price)) # avoid negative values for optimization\n",
    "df_p.head()"
   ]
  },
  {
   "cell_type": "code",
   "execution_count": 3,
   "id": "76005baa",
   "metadata": {},
   "outputs": [],
   "source": [
    "\n",
    "\n",
    "# Please make sure that the desired set of settings has been calculated\n",
    "def settings_to_costs_df(pricing_type, operation_type, feed_in_tariff,grid_charges, handling_fee): \n",
    "    target_df = pd.read_pickle(f\"./output/00_pricing_{pricing_type}_operation_{operation_type}_fi_{str(feed_in_tariff)}_ne_{str(grid_charges).replace('.','')}.pkl\")\n",
    "    df_p.index = target_df.index\n",
    "\n",
    "    if pricing_type == \"constant\":\n",
    "        df_p[\"Deutschland/Luxemburg [€/kWh]\"]  = df_p[\"Deutschland/Luxemburg [€/kWh]\"].mean()\n",
    "\n",
    "    target_df_costs = target_df.copy()\n",
    "\n",
    "    for col in target_df.columns:\n",
    "        for idx in target_df.index:\n",
    "            if target_df[col][idx] < 0:\n",
    "                target_df_costs[col][idx] = target_df[col][idx] * feed_in_tariff\n",
    "            else:\n",
    "                target_df_costs[col][idx] = target_df[col][idx] * (df_p[\"Deutschland/Luxemburg [€/kWh]\"][idx]+grid_charges+handling_fee)\n",
    "    return target_df_costs"
   ]
  },
  {
   "cell_type": "code",
   "execution_count": 4,
   "id": "a4e44be4",
   "metadata": {},
   "outputs": [],
   "source": [
    "\n",
    "feed_in_tariff = 0.07\n",
    "grid_charges = 0.072\n",
    "handling_fee = 0.02\n",
    "\n",
    "pricing_type = \"constant\"\n",
    "operation_type = \"constant\"\n",
    "\n",
    "constant = settings_to_costs_df(pricing_type, operation_type, feed_in_tariff,grid_charges, handling_fee)\n"
   ]
  },
  {
   "cell_type": "code",
   "execution_count": 6,
   "id": "455f483a",
   "metadata": {},
   "outputs": [],
   "source": [
    "\n",
    "pricing_type = \"dynamic\"\n",
    "operation_type = \"dynamic\"\n",
    "\n",
    "dynamic = settings_to_costs_df(pricing_type, operation_type, feed_in_tariff,grid_charges, handling_fee)"
   ]
  },
  {
   "cell_type": "code",
   "execution_count": 7,
   "id": "d510dc3e",
   "metadata": {},
   "outputs": [
    {
     "data": {
      "text/plain": [
       "<AxesSubplot: >"
      ]
     },
     "execution_count": 7,
     "metadata": {},
     "output_type": "execute_result"
    },
    {
     "data": {
      "image/png": "[encoded data removed]",
      "text/plain": [
       "<Figure size 1440x576 with 1 Axes>"
      ]
     },
     "metadata": {
      "needs_background": "light"
     },
     "output_type": "display_data"
    }
   ],
   "source": [
    "comparison = pd.DataFrame()\n",
    "\n",
    "comparison[\"Constant Households\"] = constant.sum()\n",
    "comparison[\"Dynamic Households\"] = dynamic.sum()\n",
    "\n",
    "comparison.plot.bar(figsize=(20,8))\n",
    "\n"
   ]
  },
  {
   "cell_type": "code",
   "execution_count": 8,
   "id": "a35e01c7",
   "metadata": {},
   "outputs": [
    {
     "data": {
      "text/html": [
       "<div>\n",
       "<style scoped>\n",
       "    .dataframe tbody tr th:only-of-type {\n",
       "        vertical-align: middle;\n",
       "    }\n",
       "\n",
       "    .dataframe tbody tr th {\n",
       "        vertical-align: top;\n",
       "    }\n",
       "\n",
       "    .dataframe thead th {\n",
       "        text-align: right;\n",
       "    }\n",
       "</style>\n",
       "<table border=\"1\" class=\"dataframe\">\n",
       "  <thead>\n",
       "    <tr style=\"text-align: right;\">\n",
       "      <th></th>\n",
       "      <th>Constant Households</th>\n",
       "      <th>Dynamic Households</th>\n",
       "    </tr>\n",
       "  </thead>\n",
       "  <tbody>\n",
       "    <tr>\n",
       "      <th>0</th>\n",
       "      <td>350.949904</td>\n",
       "      <td>309.746267</td>\n",
       "    </tr>\n",
       "    <tr>\n",
       "      <th>1</th>\n",
       "      <td>467.265376</td>\n",
       "      <td>424.307476</td>\n",
       "    </tr>\n",
       "    <tr>\n",
       "      <th>2</th>\n",
       "      <td>941.381024</td>\n",
       "      <td>906.891711</td>\n",
       "    </tr>\n",
       "    <tr>\n",
       "      <th>3</th>\n",
       "      <td>444.964777</td>\n",
       "      <td>433.577821</td>\n",
       "    </tr>\n",
       "    <tr>\n",
       "      <th>4</th>\n",
       "      <td>5.017844</td>\n",
       "      <td>-39.973711</td>\n",
       "    </tr>\n",
       "    <tr>\n",
       "      <th>5</th>\n",
       "      <td>662.097588</td>\n",
       "      <td>609.991252</td>\n",
       "    </tr>\n",
       "    <tr>\n",
       "      <th>6</th>\n",
       "      <td>1539.975391</td>\n",
       "      <td>1555.225553</td>\n",
       "    </tr>\n",
       "    <tr>\n",
       "      <th>7</th>\n",
       "      <td>1858.670634</td>\n",
       "      <td>1823.341065</td>\n",
       "    </tr>\n",
       "    <tr>\n",
       "      <th>8</th>\n",
       "      <td>487.14594</td>\n",
       "      <td>450.472997</td>\n",
       "    </tr>\n",
       "    <tr>\n",
       "      <th>9</th>\n",
       "      <td>1674.923754</td>\n",
       "      <td>1618.365983</td>\n",
       "    </tr>\n",
       "  </tbody>\n",
       "</table>\n",
       "</div>"
      ],
      "text/plain": [
       "  Constant Households Dynamic Households\n",
       "0          350.949904         309.746267\n",
       "1          467.265376         424.307476\n",
       "2          941.381024         906.891711\n",
       "3          444.964777         433.577821\n",
       "4            5.017844         -39.973711\n",
       "5          662.097588         609.991252\n",
       "6         1539.975391        1555.225553\n",
       "7         1858.670634        1823.341065\n",
       "8           487.14594         450.472997\n",
       "9         1674.923754        1618.365983"
      ]
     },
     "execution_count": 8,
     "metadata": {},
     "output_type": "execute_result"
    }
   ],
   "source": [
    "comparison"
   ]
  },
  {
   "cell_type": "code",
   "execution_count": null,
   "id": "b897bbfd",
   "metadata": {},
   "outputs": [],
   "source": []
  },
  {
   "cell_type": "code",
   "execution_count": null,
   "id": "62b2b363",
   "metadata": {},
   "outputs": [],
   "source": []
  },
  {
   "cell_type": "code",
   "execution_count": null,
   "id": "fedc6718",
   "metadata": {},
   "outputs": [],
   "source": []
  },
  {
   "cell_type": "code",
   "execution_count": null,
   "id": "c9a0c386",
   "metadata": {},
   "outputs": [],
   "source": []
  },
  {
   "cell_type": "code",
   "execution_count": null,
   "id": "0cae0e0b",
   "metadata": {},
   "outputs": [],
   "source": []
  },
  {
   "cell_type": "code",
   "execution_count": null,
   "id": "ec839c2f",
   "metadata": {},
   "outputs": [],
   "source": []
  },
  {
   "cell_type": "code",
   "execution_count": null,
   "id": "88eaa401",
   "metadata": {},
   "outputs": [],
   "source": []
  },
  {
   "cell_type": "code",
   "execution_count": null,
   "id": "31b83078",
   "metadata": {},
   "outputs": [],
   "source": []
  }
 ],
 "metadata": {
  "kernelspec": {
   "display_name": "Python 3",
   "language": "python",
   "name": "python3"
  },
  "language_info": {
   "codemirror_mode": {
    "name": "ipython",
    "version": 3
   },
   "file_extension": ".py",
   "mimetype": "text/x-python",
   "name": "python",
   "nbconvert_exporter": "python",
   "pygments_lexer": "ipython3",
   "version": "3.8.8"
  }
 },
 "nbformat": 4,
 "nbformat_minor": 5
}
