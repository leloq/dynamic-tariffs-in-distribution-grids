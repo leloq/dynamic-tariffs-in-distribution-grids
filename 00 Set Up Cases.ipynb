{
 "cells": [
  {
   "cell_type": "markdown",
   "id": "b5ce78cb",
   "metadata": {},
   "source": [
    "# Setting up the empirical-based household load profiles\n",
    "\n",
    "Goal: Setting up 500 profiles of households, based on empirical or semi-empirical data for the year 2019.\n",
    "\n",
    "## Components\n",
    "\n",
    "**Heat pumps**: Water-to-water heat pump load profiles, based on Schlemminger et al. (2022)'s real-world profiles. Enriched to 500 profiles through the approach of Semmelmann et al. (2023).\n",
    "\n",
    "**Household data**: Finding the corresponding real-world household load profiles from Schlemminger et al. (2022).\n",
    "\n",
    "**Electric vehicles**: Real-world Norwegian electric vehicle charging profiles from Sørensen et al. (2021), preprocessed in `00 Preprocessing_EV_data.ipynb`. To come up with 500 profiles, load profiles are shifted between [-4,4] weeks. Profiles are shifted by full weeks only to ensure daily integrity.\n",
    "\n",
    "**BESS sizes**: Power ratings and capacities of household battery energy storage systems (BESS) are taken from Semmelmann et al. (2024, unpublished), based on a realistic sample of German residential households. \n",
    "\n",
    "**PV load data**: From renewables.ninja for Hamelin in 2019, the city from which the heat pump and household load profiles are obtained, based on Pfenninger and Staffell (2016). PV sized equal to BESS capacit / h, corresponding to average German households, depicted in Truong et al. (2016). \n",
    "\n",
    "## Output\n",
    "\n",
    "The following output files are generated:\n",
    "\n",
    "- HP profiles\n",
    "- HH profiles\n",
    "- PV profile normed on 1kW rated power\n",
    "- EV profiles\n",
    "- Household config: includes for 500 households: A) column of HP and B) HH profile C) BESS capacity (drawn based on distribution) D) BESS rated power (derived from capacity) E) PV power (derived from capacity)\n",
    "\n",
    "\n",
    "## Sources\n",
    "\n",
    "- Semmelmann, L., Jaquart, P., & Weinhardt, C. (2023). Generating synthetic load profiles of residential heat pumps: a k-means clustering approach. Energy Informatics, 6(Suppl 1), 37.\n",
    "- Schlemminger, M., Ohrdes, T., Schneider, E., & Knoop, M. (2022). Dataset on electrical single-family house and heat pump load profiles in Germany. Scientific data, 9(1), 56.\n",
    "- Semmelmann, L., Konermann, M., Dietze, D., & Staudt, P. (2024). Empirical field evaluation of self-consumption promoting regulation of household battery energy storage systems. Energy Policy, 194, 114343.\n",
    "- Sørensen, Å. L., Lindberg, K. B., Sartori, I., & Andresen, I. (2021). Residential electric vehicle charging datasets from apartment buildings. Data in Brief, 36, 107105.\n",
    "- Pfenninger, S., & Staffell, I. (2016). Long-term patterns of European PV output using 30 years of validated hourly reanalysis and satellite data. Energy, 114, 1251-1265.\n",
    "- Truong, C. N., Naumann, M., Karl, R. C., Müller, M., Jossen, A., & Hesse, H. C. (2016). Economics of residential photovoltaic battery systems in Germany: The case of Tesla’s Powerwall. Batteries, 2(2), 14.\n"
   ]
  },
  {
   "cell_type": "code",
   "execution_count": 1,
   "id": "2f199b68",
   "metadata": {},
   "outputs": [],
   "source": [
    "# IMPORTS\n",
    "import datetime\n",
    "import random\n",
    "import pandas as pd\n",
    "import numpy as np\n",
    "import matplotlib.pyplot as plt"
   ]
  },
  {
   "cell_type": "code",
   "execution_count": 2,
   "id": "682108a9",
   "metadata": {},
   "outputs": [],
   "source": [
    "# GENERAL SETUP\n",
    "amount_households = 500\n",
    "households = [] # empty list of dictionaries for household information"
   ]
  },
  {
   "cell_type": "code",
   "execution_count": 3,
   "id": "72c5e381",
   "metadata": {},
   "outputs": [],
   "source": [
    "# HEAT PUMP LOADS: Iterating over given synthetic household profiles for Hamelin in 2019\n",
    "df_heat_pumps = pd.read_pickle(\"./input/2019 Hamelin 500 HP.pkl\") # has been previously generated with https://heatpump.ninja/ \n",
    "for i in range(amount_households):\n",
    "    households.append({\"heat_pump_profile\":df_heat_pumps.columns[i],\"hp_yearly_consumption\":df_heat_pumps[df_heat_pumps.columns[i]].sum()/1000,\"household_profile\":df_heat_pumps.columns[i]})"
   ]
  },
  {
   "cell_type": "code",
   "execution_count": null,
   "id": "df4dba21",
   "metadata": {},
   "outputs": [],
   "source": [
    "# HOUSEHOLD LOADS\n",
    "'''\n",
    "The underlying heat pump loads are based on Schlemminger et al. (2022). \n",
    "However, they are randomly shuffled according to observed temperatures, following the methodology from Semmelmann et al. (2023).\n",
    "Hence, in this cell, the corresponding household loads from the observed days are matched and inserted in their own dataframe.\n",
    "'''\n",
    "\n",
    "df_households_source = pd.read_pickle(\"./input/1920 Final Data w. Additional Features HH Hourly Agg.pkl\")\n",
    "df_heat_pumps_source = pd.read_pickle(\"./input/1920 Final Data w. Additional Features HP Hourly Agg.pkl\")\n",
    "df_heat_pumps_source_24th_rows = df_heat_pumps_source.iloc[::24, :]\n",
    "\n",
    "heat_pump_loads_target = df_heat_pumps\n",
    "heat_pump_loads_target_24th_rows = heat_pump_loads_target.iloc[::24, :]\n",
    "\n",
    "df_households_target = df_heat_pumps.copy() # copy heat pump dataframe as target\n",
    "\n",
    "for total_col in df_households_target.columns: # iterating over the heat pump loads, which are associated with specific households\n",
    "    print(total_col)\n",
    "    heat_pump_loads_target_24th_rows_spec = heat_pump_loads_target_24th_rows[total_col]\n",
    "    col = \"SFH\"+total_col.split(\"SFH\")[1]\n",
    "    for i in range(0, len(heat_pump_loads_target_24th_rows_spec)): # look up on which day the heat pump loads were observed\n",
    "        first_hp_load = heat_pump_loads_target_24th_rows_spec.iloc[i]\n",
    "        for idx,val in enumerate(df_heat_pumps_source_24th_rows[col].values):\n",
    "            if first_hp_load == val:\n",
    "                target_values = df_households_source[col].iloc[(idx*24):(idx+1)*24] # find the corresponding household loads\n",
    "                df_households_target.loc[i*24:(i+1)*24,total_col] = target_values.values # insert them to dataframe\n",
    "\n",
    "df_households_target.to_pickle(\"./input/preprocessed/2019 Hamelin 500 HH.pkl\")"
   ]
  },
  {
   "cell_type": "code",
   "execution_count": null,
   "id": "58bc4d19",
   "metadata": {},
   "outputs": [],
   "source": [
    "# Enriching the household characteristics dictionary with information: calculate households consumption and aggregate consumption:\n",
    "for household in households:\n",
    "    yearly_sum_hh = df_households_target[household[\"household_profile\"]].sum()/1000\n",
    "    aggregate_consumption = household[\"hp_yearly_consumption\"]+yearly_sum_hh\n",
    "    household = household.update({\"hh_yearly_consumption\":yearly_sum_hh,\"total_yearly_consumption\":aggregate_consumption})"
   ]
  },
  {
   "cell_type": "code",
   "execution_count": null,
   "id": "39dd9a2e",
   "metadata": {},
   "outputs": [],
   "source": [
    "# ELECTRIC VEHICLE LOADS: Matching EV profiles to households and saving the shifted profiles\n",
    "# Read EV data with multi-column index\n",
    "ev_df = pd.read_csv(\"./input/preprocessed/Hourly_EV_Charging.csv\", sep=\";\", header=[0,1], index_col=0)\n",
    "ev_df.index = pd.to_datetime(ev_df.index)\n",
    "print(\"Number of rows in ev_df: \", len(ev_df))\n",
    "\n",
    "# Determine unique users\n",
    "ev_users = ev_df.columns.get_level_values(0).unique()\n",
    "print(\"EV user IDs: \", list(ev_users))"
   ]
  },
  {
   "cell_type": "code",
   "execution_count": null,
   "id": "5b31c6d0",
   "metadata": {},
   "outputs": [],
   "source": [
    "# Match an EV profile to each household and determine by how many weeks the EV profile is shifted\n",
    "for household in households:\n",
    "    shift_weeks = random.randint(-4, 4)\n",
    "    household = household.update({\"ev_col\": random.choice(ev_users), \"ev_shift_weeks\": shift_weeks})"
   ]
  },
  {
   "cell_type": "code",
   "execution_count": null,
   "id": "15b86dd5",
   "metadata": {},
   "outputs": [],
   "source": [
    "# Create a new dataframe with the shifted EV profiles\n",
    "assert (ev_df.index == df_heat_pumps.index).all(), \"Indices of EV and heat pump dataframes do not match\"\n",
    "level_0 = df_heat_pumps.columns\n",
    "level_1 = ev_df.columns.get_level_values(1).unique()\n",
    "df_ev_target = pd.DataFrame(index=ev_df.index, columns=pd.MultiIndex.from_product([level_0, level_1], names=[\"household\", \"ev_info\"]))\n",
    "\n",
    "# Iterate over all households\n",
    "for idx, col in enumerate(level_0):\n",
    "    ev_col = households[idx][\"ev_col\"]\n",
    "    time_steps_shift = households[idx][\"ev_shift_weeks\"] * 7 * 24  # integer number of time steps to shift the EV profile\n",
    "    idx_shift = ev_df.index[-time_steps_shift]  # corresponding time stamp at which the EV profile is split\n",
    "\n",
    "    # EV profile of the matched user\n",
    "    ev_df_u = ev_df.loc[:, ev_col].copy()  # copy the EV profile to avoid modifying the original dataframe\n",
    "\n",
    "    # Check whether the split due to shifting is in the middle of a charging session;\n",
    "    # this charging session will be neglected;\n",
    "    # reasoning: if we split it, there may be a high charging peak in time step 0 in the uncontrolled case (all EVs for which charging session has been split are charged at the same time)\n",
    "    if ev_df_u.loc[idx_shift, \"Wh\"] > 0 and ev_df_u.loc[idx_shift, \"start\"] == 0:\n",
    "        # Find the start and end of the charging session\n",
    "        idx_start = ev_df_u.loc[:idx_shift][ev_df_u.loc[:idx_shift, \"start\"] == 1].index[-1]\n",
    "        idx_end = idx_start + datetime.timedelta(hours=ev_df_u.loc[idx_start, \"hours_until_end\"])\n",
    "        # Set the charging session to zero\n",
    "        ev_df_u.loc[idx_start:idx_end] = 0  # idx_end is included\n",
    "\n",
    "    shifted_ev_df = pd.concat([ev_df_u[idx_shift:], ev_df_u[:idx_shift - datetime.timedelta(hours=1)]]).reset_index(drop=True)\n",
    "    df_ev_target[col] = shifted_ev_df.values"
   ]
  },
  {
   "cell_type": "code",
   "execution_count": null,
   "id": "856402d5",
   "metadata": {},
   "outputs": [],
   "source": [
    "# Save the shifted EV profiles\n",
    "df_ev_target = df_ev_target.astype(np.float32) # reduce memory usage\n",
    "df_ev_target.to_pickle(\"./input/preprocessed/2019 Hamelin 500 EV.pkl\")"
   ]
  },
  {
   "cell_type": "code",
   "execution_count": null,
   "id": "13a78425",
   "metadata": {},
   "outputs": [],
   "source": [
    "# Turn household characteristics into a dataframe\n",
    "config = pd.DataFrame(households)\n",
    "config"
   ]
  },
  {
   "cell_type": "code",
   "execution_count": null,
   "id": "05f12c38",
   "metadata": {},
   "outputs": [],
   "source": [
    "# BESS CAPACITY AND PV POWER: Draw from distribution BESS capacity, PV sized at BESS Capacity / 1h\n",
    "\n",
    "capacities = [2.5, 5, 7.5, 10] # in kWh\n",
    "probabilities = [6.7, 37.2, 31.5, 24.6] # in percent, distributions from field study in Semmelmann et al. (2024)\n",
    "\n",
    "\n",
    "def draw_bess_capacity(capacities, probabilities):\n",
    "    total = sum(probabilities)\n",
    "    normalized_probabilities = [p / total for p in probabilities]\n",
    "\n",
    "    return random.choices(capacities, weights=normalized_probabilities, k=1)[0]\n",
    "\n",
    "drawn_capacities = np.full(amount_households,0) # create an array of drawn capacities\n",
    "\n",
    "for i in range(amount_households):\n",
    "    capacity = draw_bess_capacity(capacities, probabilities)\n",
    "    drawn_capacities[i] = capacity\n",
    "\n",
    "drawn_capacities = np.sort(drawn_capacities)[::-1] # sort randomly drawn BESS capacities in an ascending order"
   ]
  },
  {
   "cell_type": "code",
   "execution_count": null,
   "id": "c6293780",
   "metadata": {},
   "outputs": [],
   "source": [
    "# To realistically match pv and bess sizes to households, we sort the households by their total hh + hp consumption and then match pv sizes\n",
    "config.sort_values(\"total_yearly_consumption\",inplace=True,ascending=False)\n",
    "\n",
    "average_c_rate = 0.41\n",
    "\n",
    "config[\"bess_capacity\"] = drawn_capacities\n",
    "config[\"bess_power\"] = config[\"bess_capacity\"]*average_c_rate\n",
    "config[\"pv_power\"] = drawn_capacities\n",
    "\n",
    "config"
   ]
  },
  {
   "cell_type": "code",
   "execution_count": null,
   "id": "da838be2",
   "metadata": {},
   "outputs": [],
   "source": [
    "# Save final household configuration\n",
    "config.to_pickle(\"./input/preprocessed/2019 Hamelin Household Configuration.pkl\")"
   ]
  },
  {
   "cell_type": "markdown",
   "id": "31bd4219",
   "metadata": {},
   "source": [
    "# Visualization of Case Setup"
   ]
  },
  {
   "cell_type": "code",
   "execution_count": null,
   "id": "fc6ef424",
   "metadata": {},
   "outputs": [],
   "source": [
    "# AGGREGATED DATA OVER ONE YEAR\n",
    "df_ev = pd.read_pickle(\"./input/2019 Hamelin 500 EV.pkl\")\n",
    "df_hh = pd.read_pickle(\"./input/2019 Hamelin 500 HH.pkl\")\n",
    "df_hp = pd.read_pickle(\"./input/2019 Hamelin 500 HP.pkl\")"
   ]
  },
  {
   "cell_type": "code",
   "execution_count": null,
   "id": "e82359e5",
   "metadata": {},
   "outputs": [],
   "source": [
    "# Transforming multi level ev data\n",
    "wh_columns = [col for col in df_ev.columns if 'Wh' in col[1]]  \n",
    "wh_data = df_ev[wh_columns]\n",
    "wh_data_sum = wh_data.sum(axis=1)"
   ]
  },
  {
   "cell_type": "code",
   "execution_count": null,
   "id": "25df4f74",
   "metadata": {},
   "outputs": [],
   "source": [
    "# Change where ending plot in jan 2020 is avoided\n",
    "plt.rcParams.update({'font.size': 17})\n",
    "plt.rcParams.update({'axes.grid': False})  # Disable the grid\n",
    "\n",
    "consumption_df = pd.DataFrame()\n",
    "consumption_df.index = pd.to_datetime(df_hh.index)\n",
    "consumption_df[\"Households\"] = df_hh.sum(axis=1).values\n",
    "consumption_df[\"Electric vehicles\"] = wh_data_sum\n",
    "consumption_df[\"Heat pumps\"] = df_hp.sum(axis=1).values\n",
    "consumption_df = consumption_df.applymap(lambda x: x / 1000000)\n",
    "weekly_consumption = consumption_df.resample(\"W\").sum()\n",
    "weekly_consumption = weekly_consumption[weekly_consumption.index <= \"2019-12-31\"]\n",
    "weekly_consumption = weekly_consumption[weekly_consumption.index >= \"2019-01-01\"]\n",
    "\n",
    "ax = weekly_consumption.plot.area(color=[\"dimgray\", \"limegreen\", \"dodgerblue\"], figsize=(12, 5))\n",
    "ax.set_ylabel(\"Weekly Energy Demand [MWh]\", fontsize=17)\n",
    "ax.set_xlabel(\"Time\", fontsize=17)\n",
    "ax.set_xlim([weekly_consumption.index.min(), weekly_consumption.index.max()])\n",
    "ax.tick_params(axis='both', which='major', labelsize=17)\n",
    "ax.legend(fontsize=17)\n",
    "\n",
    "plt.show()"
   ]
  },
  {
   "cell_type": "code",
   "execution_count": null,
   "id": "cc9a6990",
   "metadata": {
    "scrolled": true
   },
   "outputs": [],
   "source": [
    "# ORIGINAL CONSUMPTION ON THE FOUR TYPE DAYS\n",
    "plt.rcParams.update({'font.size': 17})\n",
    "dates = ['2019-03-03', '2019-11-18', '2019-12-01', '2019-05-13']\n",
    "titles = ['Peak inflexible load day', 'Peak electric vehicle day', 'Peak heat pump day', 'Peak feed-in day']\n",
    "\n",
    "fig, axes = plt.subplots(2, 2, figsize=(20, 12))  # 2x2 grid of subplots\n",
    "\n",
    "for i, (date, title) in enumerate(zip(dates, titles)):\n",
    "    day_start = pd.to_datetime(date).tz_localize('UTC')\n",
    "    day_end = day_start + pd.Timedelta(days=1) - pd.Timedelta(seconds=1)\n",
    "    \n",
    "    day_data = consumption_df.loc[day_start:day_end]\n",
    "    ax = axes[i // 2, i % 2] \n",
    "    day_data.plot.area(ax=ax, color=[\"dimgray\", \"limegreen\", \"dodgerblue\"], alpha=0.8)\n",
    "\n",
    "    ax.set_title(title, fontsize=17)\n",
    "    ax.set_ylabel(\"Hourly Energy Demand [MWh]\", fontsize=17)\n",
    "    ax.set_xlabel(\"Time\", fontsize=17)\n",
    "    ax.set_ylim([0, 1.5])\n",
    "    ax.grid(False)  \n",
    "\n",
    "plt.tight_layout()\n",
    "plt.show()"
   ]
  },
  {
   "cell_type": "code",
   "execution_count": null,
   "id": "a8b3bf6e",
   "metadata": {},
   "outputs": [],
   "source": []
  }
 ],
 "metadata": {
  "kernelspec": {
   "display_name": "Python 3",
   "language": "python",
   "name": "python3"
  },
  "language_info": {
   "codemirror_mode": {
    "name": "ipython",
    "version": 3
   },
   "file_extension": ".py",
   "mimetype": "text/x-python",
   "name": "python",
   "nbconvert_exporter": "python",
   "pygments_lexer": "ipython3",
   "version": "3.8.8"
  }
 },
 "nbformat": 4,
 "nbformat_minor": 5
}
