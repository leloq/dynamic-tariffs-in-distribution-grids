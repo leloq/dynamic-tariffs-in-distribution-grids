{
 "cells": [
  {
   "cell_type": "markdown",
   "source": [
    "# Preprocess the EV data\n",
    "Goal: Preprocess the EV data from [1] for easier use in the optimization.\n",
    "\n",
    "## Input\n",
    "Before running below code, download the dataset \"Dataset 1_EV charging reports.csv\" from [https://data.mendeley.com/datasets/jbks2rcwyj/1](https://data.mendeley.com/datasets/jbks2rcwyj/1) and save it in the folder \"input\".\n",
    "From [1]: 'The CSV file “Dataset 1” describes 6,878 individual charging sessions, registered by 97 user IDs from December 2018 to January 2020. The charging reports include plug-in time, plug-out time and charged energy per charging session. Each charging session is connected to a user ID, charger ID and address. The charger IDs are either private or shared, since the charge points (CPs) are either located on the residents private parking spaces, or on shared parking areas available for all residents registered as users. ...'\n",
    "\n",
    "## Output\n",
    "Dataframe with hourly information for each user ID/vehicle.\n",
    "\n",
    "## Sources\n",
    "[1] Sørensen, Å. L., Lindberg, K. B., Sartori, I., & Andresen, I. (2021). Residential electric vehicle charging datasets from apartment buildings. Data in Brief, 36, 107105."
   ],
   "metadata": {
    "collapsed": false
   }
  },
  {
   "cell_type": "code",
   "execution_count": null,
   "id": "270a0c0c",
   "metadata": {},
   "outputs": [],
   "source": [
    "# IMPORTS\n",
    "import datetime\n",
    "import matplotlib.pyplot as plt\n",
    "import numpy as np\n",
    "import pandas as pd\n",
    "from pathlib import Path"
   ]
  },
  {
   "cell_type": "code",
   "execution_count": null,
   "outputs": [],
   "source": [
    "# SETTINGS\n",
    "path_ev_orig = Path(\"input/Dataset 1_EV charging reports.csv\")  # original EV data from https://data.mendeley.com/datasets/jbks2rcwyj/1\n",
    "path_output = Path(\"input/preprocessed\")  # output of this script is input to the optimization\n",
    "start_date = \"2019-01-01\"  # only consider charging sessions from this date onwards; format: YYYY-MM-DD (heat pump and household data starts on 01.01.2019)\n",
    "end_date = \"2020-01-01\"  # only consider charging sessions until this date; format: YYYY-MM-DD (end_date is not included, EV data ends on 31.01.2020, local time)\n",
    "\n",
    "tz_data = \"Europe/Berlin\"  # time zone of input data; from [1]: \"In the data provided with this article, Central European Time (CET) zone is used, which is GMT +1. Daylight saving time (DST) applies.\"\n",
    "tz_output = \"UTC\"  # time zone of output data\n",
    "\n",
    "daterange = pd.date_range(start_date, end_date, freq=\"H\", inclusive=\"left\", tz=tz_output)  # hourly date range from start_date to end_date; time stamp indicates the start of a time interval\n",
    "print(f\"Daterange: {daterange[0]} - {daterange[-1]}\")"
   ],
   "metadata": {
    "collapsed": false
   }
  },
  {
   "cell_type": "code",
   "execution_count": null,
   "id": "5933c7d4",
   "metadata": {},
   "outputs": [],
   "source": [
    "# DATA TYPES AND REMOVAL OF DATA THAT IS NOT RELEVANT\n",
    "# Read in the data\n",
    "ev = pd.read_csv(path_ev_orig, sep=\";\")\n",
    "\n",
    "# Drop specified columns\n",
    "list_drop = [\"month_plugin\", \"weekdays_plugin\", \"Plugin_category\", \"Duration_category\", \"Shared_ID\"]\n",
    "ev.drop(columns=list_drop, inplace=True)\n",
    "\n",
    "# Convert El_kWh and duration hours to float\n",
    "ev[\"El_kWh\"] = ev[\"El_kWh\"].str.replace(\",\", \".\")\n",
    "ev[\"El_kWh\"] = ev[\"El_kWh\"].astype(float)\n",
    "ev[\"Duration_hours\"] = ev[\"Duration_hours\"].str.replace(\",\", \".\")\n",
    "ev[\"Duration_hours\"] = ev[\"Duration_hours\"].astype(float)\n",
    "\n",
    "# Drop rows with no end plugout time\n",
    "# From [1]: \"If the plug-out time is too early, compared to energy charged and maximum 11 kW charging power available, the plug-out time is removed (set to NA), since this indicates that the value is incorrect (relevant for 34 charging sessions).\"\n",
    "ev.dropna(subset=[\"End_plugout\"], inplace=True)\n",
    "\n",
    "# Only keep private charging sessions; then drop column \"User_type\"\n",
    "ev = ev[ev[\"User_type\"] != \"Shared\"]\n",
    "assert list(ev[\"User_type\"].unique()) == [\"Private\"], \"Error: User_type should only contain 'Private'.\"\n",
    "ev = ev.drop(\"User_type\", axis=1)\n",
    "\n",
    "# Format plug-in and plug-out time; change time zone to UTC\n",
    "# From [1]: \"In the data provided with this article, Central European Time (CET) zone is used, which is GMT +1. Daylight saving time (DST) applies.\" (It is a Norwegian dataset.)\n",
    "for col in [\"Start_plugin\", \"End_plugout\"]:\n",
    "    ev[col] = pd.to_datetime(ev[col], format=\"%d.%m.%Y %H:%M\")\n",
    "    ev[col] = ev[col].dt.tz_localize(tz_data).dt.tz_convert(tz_output)\n",
    "\n",
    "# Only consider charging sessions in defined time window\n",
    "ev = ev[(ev[\"Start_plugin\"].dt.date.isin(daterange.date)) & (ev[\"End_plugout\"].dt.date.isin(daterange.date))]\n",
    "\n",
    "# Add a new column with kWh/min if charging was distributed equally over entire duration\n",
    "ev[\"kWh/min\"] = ev[\"El_kWh\"] / (ev[\"Duration_hours\"] * 60)\n",
    "\n",
    "# Add a new column with power in kW if charging was distributed equally over entire duration\n",
    "ev[\"kW\"] = ev[\"El_kWh\"] / ev[\"Duration_hours\"]\n",
    "\n",
    "# Show the first two rows\n",
    "ev.head(2)"
   ]
  },
  {
   "cell_type": "code",
   "execution_count": null,
   "outputs": [],
   "source": [
    "# Does each garage correspond to one charger or are there multiple chargers in one garage?\n",
    "# Example to show that there must be multiple chargers in one garage\n",
    "ev[(ev[\"Garage_ID\"] == \"AdO1\") & (ev[\"Start_plugin\"].dt.date == datetime.date(2019, 2, 28))]\n",
    "# --> there are 3 different user IDs charging at the same time in garage \"AdO1\""
   ],
   "metadata": {
    "collapsed": false
   }
  },
  {
   "cell_type": "code",
   "execution_count": null,
   "outputs": [],
   "source": [
    "# Get all unique user IDs\n",
    "unique_users_ = sorted(ev[\"User_ID\"].unique())\n",
    "print(\"Number of unique users: \", len(unique_users_))"
   ],
   "metadata": {
    "collapsed": false
   }
  },
  {
   "cell_type": "code",
   "execution_count": null,
   "outputs": [],
   "source": [
    "# Plot the charging processes over time for each user\n",
    "fig, axs = plt.subplots(figsize=(15, 20), nrows=len(unique_users_), sharex=True, sharey=True)\n",
    "for i, u in enumerate(unique_users_):\n",
    "    ts = pd.Series(np.empty(len(daterange)), index=daterange)\n",
    "    ts[:] = np.nan\n",
    "    df_u = ev[ev[\"User_ID\"] == u]\n",
    "    for _, c in df_u.iterrows():\n",
    "        s = c[\"Start_plugin\"].replace(minute=0)\n",
    "        e = c[\"End_plugout\"].replace(minute=0)\n",
    "        ts.loc[s:e] = 1\n",
    "    ts.plot(ax=axs[i], linewidth=5, label=u)\n",
    "    axs[i].legend(loc=\"center left\", bbox_to_anchor=(1, 0.5), handlelength=0.2)\n",
    "    axs[i].set_ylim(0.9, 1.1)\n",
    "    axs[i].set_yticks([])  # remove y-ticks\n",
    "    axs[i].set_xticks([], minor=True)  # remove minor x-ticks"
   ],
   "metadata": {
    "collapsed": false
   }
  },
  {
   "cell_type": "code",
   "execution_count": null,
   "outputs": [],
   "source": [
    "# The plot shows that many users only joined/switched to a private charging station towards the end of the time period.\n",
    "# --> only consider users that have at least one charging process in the first <n_weeks> weeks of the investigated date range.\n",
    "n_weeks = 12\n",
    "unique_users = []\n",
    "for u in unique_users_:\n",
    "    df_u = ev[ev[\"User_ID\"] == u]\n",
    "    if df_u[\"Start_plugin\"].dt.date.isin(np.unique(daterange.date)[:n_weeks * 7]).any():\n",
    "        unique_users.append(u)\n",
    "print(\"Number of unique users left: \", len(unique_users))\n",
    "print(\"Corresponding user IDs: \", unique_users)"
   ],
   "metadata": {
    "collapsed": false
   }
  },
  {
   "cell_type": "code",
   "execution_count": null,
   "outputs": [],
   "source": [
    "# COMPUTE HOURLY DATA FOR EACH USER\n",
    "# Initialize dataframe with zeros\n",
    "col_per_user = [\"kWh\",  # kWh charged in this hour\n",
    "                \"share_of_hour\",  # how long is the EV plugged-in in this hour; e.g.: 0.5 means 30 minutes\n",
    "                \"start\",  # indicates if a charging process starts in this hour; 1 if yes, 0 if no\n",
    "                \"hours_until_end\",  # how many hours does the charging process last (in the same row where \"start\" is 1); e.g., if charging process starts at 10:10 and ends at 12:30, then \"hours_until_end\" is 2\n",
    "                ]\n",
    "columns = pd.MultiIndex.from_product([unique_users, col_per_user])\n",
    "ev_hourly = pd.DataFrame(np.zeros((len(daterange),len(unique_users) * len(col_per_user))) , index=daterange, columns=columns)\n",
    "\n",
    "# Iterate over all user IDs\n",
    "list_same_hour = []\n",
    "list_overlapping = []\n",
    "for u in unique_users:\n",
    "    idx_last_start = None # start HOUR of last charging process\n",
    "    ts_last_end = None  # end TIMESTAMP of last charging process\n",
    "\n",
    "    # Get all charging processes of one user\n",
    "    df_u = ev[ev[\"User_ID\"] == u]\n",
    "\n",
    "    # Iterate over all charging processes of one user\n",
    "    for _, c in df_u.iterrows():\n",
    "        c = c.to_dict()\n",
    "\n",
    "        # Check for overlapping charging processes for the same user ID; example: AdO1 on 17.01.2020\n",
    "        # --> only the first charging process is considered\n",
    "        if ts_last_end is not None and c[\"Start_plugin\"] < ts_last_end:\n",
    "            list_overlapping.append((u, c[\"Start_plugin\"]))\n",
    "            continue\n",
    "        else:\n",
    "            # Define start and end date and hour\n",
    "            s = c[\"Start_plugin\"].replace(minute=0)\n",
    "            e = c[\"End_plugout\"].replace(minute=0)\n",
    "\n",
    "            # Iterate over all indexes of the dataframe ev_hourly\n",
    "            for idx in ev_hourly.index:\n",
    "                # If idx >= s (plug-in hour) and <= e (plug-out hour), then the EV is charging in that time interval\n",
    "                if s <= idx <= e:\n",
    "                    # If the charging process starts in this hour, set \"start\" to 1 and compute \"hours_until_end\"\n",
    "                    # Note: there can be edge cases where\n",
    "                    # 1) two charging processes start in the same hour (first one very short)\n",
    "                    # 2) one charging process ends and another one starts in the same hour\n",
    "                    # in these cases, the 2 charging processes are considered as one; value \"hours_until_end\" is the sum of the two charging processes\n",
    "                    if idx == s:\n",
    "                        hours_until_end = (e - s).days * 24 + (e - s).seconds / 3600\n",
    "                        if idx_last_start is None or idx > idx_last_start + datetime.timedelta(hours=ev_hourly.loc[idx_last_start, (u, \"hours_until_end\")]): # no edge case\n",
    "                            ev_hourly.loc[idx, (u, \"start\")] = 1\n",
    "                            ev_hourly.loc[idx, (u, \"hours_until_end\")] = hours_until_end\n",
    "                            idx_last_start = idx\n",
    "                        else:  # edge case --> consider the two charging processes as one\n",
    "                            ev_hourly.loc[idx_last_start, (u, \"hours_until_end\")] += hours_until_end\n",
    "                            list_same_hour.append((idx_last_start, u))\n",
    "\n",
    "                    # Compute the number of minutes for which the EV is plugged-in in the current hour\n",
    "                    if idx == s and s != e:  # charging process starts in this hour, but ends in another hour\n",
    "                        minutes = 60 - c[\"Start_plugin\"].minute\n",
    "                    elif idx == e and e == s:  # charging process starts and ends in this hour\n",
    "                        minutes = c[\"End_plugout\"].minute - c[\"Start_plugin\"].minute\n",
    "                    elif idx == e and s != e:  # charging process ends in this hour, but has started in another hour\n",
    "                        minutes = c[\"End_plugout\"].minute\n",
    "                    else:  # charging process starts and ends in another hour\n",
    "                        minutes = 60\n",
    "\n",
    "                    # Add the charged energy and share of hour to the dataframe\n",
    "                    # Note: values are added to the current value in the dataframe as there can be multiple charging processes in the same hour\n",
    "                    ev_hourly.loc[idx, (u, \"kWh\")] = ev_hourly.loc[idx, (u, \"kWh\")] + minutes * c[\"kWh/min\"]\n",
    "                    ev_hourly.loc[idx, (u, \"share_of_hour\")] = ev_hourly.loc[idx, (u, \"share_of_hour\")] + minutes / 60\n",
    "\n",
    "            # Update last end time\n",
    "            ts_last_end = c[\"End_plugout\"]\n",
    "\n",
    "# print(\"List of indices to check for edge cases: \", list_same_hour)\n",
    "# print(\"List of overlapping charging processes: \", list_overlapping)\n",
    "\n",
    "# Filter for rows where the first user is charging and show the first 5 rows\n",
    "ev_hourly[ev_hourly.loc[:, pd.IndexSlice[unique_users[0], \"kWh\"]] > 0].head(5)"
   ],
   "metadata": {
    "collapsed": false
   }
  },
  {
   "cell_type": "code",
   "execution_count": null,
   "outputs": [],
   "source": [
    "# Convert kWh to Wh\n",
    "ev_hourly.loc[:, pd.IndexSlice[:, \"kWh\"]] = ev_hourly.loc[:, pd.IndexSlice[:, \"kWh\"]] * 1000\n",
    "ev_hourly.rename(columns={\"kWh\": \"Wh\"}, level=1, inplace=True)\n",
    "ev_hourly[ev_hourly.loc[:, pd.IndexSlice[unique_users[0], \"Wh\"]] > 0].head(5)"
   ],
   "metadata": {
    "collapsed": false
   }
  },
  {
   "cell_type": "code",
   "execution_count": null,
   "id": "88c956d8",
   "metadata": {},
   "outputs": [],
   "source": [
    "# SAVE THE PROCESSED DATA\n",
    "ev_hourly.to_csv(path_output / \"Hourly_EV_Charging.csv\", sep=\";\")"
   ]
  },
  {
   "cell_type": "markdown",
   "source": [
    "#### How to filter multi-index"
   ],
   "metadata": {
    "collapsed": false
   }
  },
  {
   "cell_type": "code",
   "execution_count": null,
   "outputs": [],
   "source": [
    "# One specific user\n",
    "ev_hourly.loc[:, (unique_users[0], slice(None))].head(2)"
   ],
   "metadata": {
    "collapsed": false
   }
  },
  {
   "cell_type": "code",
   "execution_count": null,
   "outputs": [],
   "source": [
    "# All users, but only Wh\n",
    "ev_hourly.loc[:, pd.IndexSlice[:, \"Wh\"]].droplevel(axis=1, level=1).head(2)"
   ],
   "metadata": {
    "collapsed": false
   }
  },
  {
   "cell_type": "markdown",
   "source": [
    "#### Maximum charging for each user"
   ],
   "metadata": {
    "collapsed": false
   }
  },
  {
   "cell_type": "code",
   "execution_count": null,
   "outputs": [],
   "source": [
    "for u in unique_users:\n",
    "    print(f\"Max. charging power for user {u} in W: {ev_hourly.loc[:, (u, 'Wh')].max()}\")"
   ],
   "metadata": {
    "collapsed": false
   }
  },
  {
   "cell_type": "code",
   "execution_count": null,
   "outputs": [],
   "source": [],
   "metadata": {
    "collapsed": false
   }
  }
 ],
 "metadata": {
  "kernelspec": {
   "display_name": "Python 3",
   "language": "python",
   "name": "python3"
  },
  "language_info": {
   "codemirror_mode": {
    "name": "ipython",
    "version": 3
   },
   "file_extension": ".py",
   "mimetype": "text/x-python",
   "name": "python",
   "nbconvert_exporter": "python",
   "pygments_lexer": "ipython3",
   "version": "3.8.8"
  }
 },
 "nbformat": 4,
 "nbformat_minor": 5
}
