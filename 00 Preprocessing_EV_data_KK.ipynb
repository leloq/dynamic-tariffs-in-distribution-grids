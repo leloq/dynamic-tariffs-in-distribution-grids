{
 "cells": [
  {
   "cell_type": "markdown",
   "source": [
    "Preprocessing of the EV data from [1]; the dataset \"Dataset 1_EV charging reports.csv\" can be downloaded from [https://data.mendeley.com/datasets/jbks2rcwyj/1](https://data.mendeley.com/datasets/jbks2rcwyj/1)\n",
    "\n",
    "From [1]: 'The CSV file “Dataset 1” describes 6,878 individual charging sessions, registered by 97 user IDs from December 2018 to January 2020. The charging reports include plug-in time, plug-out time and charged energy per charging session. Each charging session is connected to a user ID, charger ID and address. The charger IDs are either private or shared, since the charge points (CPs) are either located on the residents private parking spaces, or on shared parking areas available for all residents registered as users. ...'\n",
    "\n",
    "[1] Sørensen, Å. L., Lindberg, K. B., Sartori, I., & Andresen, I. (2021). Residential electric vehicle charging datasets from apartment buildings. Data in Brief, 36, 107105."
   ],
   "metadata": {
    "collapsed": false
   }
  },
  {
   "cell_type": "code",
   "execution_count": 1,
   "id": "270a0c0c",
   "metadata": {},
   "outputs": [],
   "source": [
    "# imports\n",
    "import matplotlib.pyplot as plt\n",
    "import numpy as np\n",
    "import datetime\n",
    "import pandas as pd\n",
    "from pathlib import Path"
   ]
  },
  {
   "cell_type": "code",
   "execution_count": 2,
   "outputs": [],
   "source": [
    "# settings\n",
    "path_ev_orig = Path(\"input/original_ev_data/Dataset 1_EV charging reports.csv\")  # original EV data from https://data.mendeley.com/datasets/jbks2rcwyj/1\n",
    "path_output = Path(\"input\")  # output of this script is input to the optimization\n",
    "start_date = \"2019-01-01\"  # only consider charging sessions from this date onwards; format: YYYY-MM-DD (heat pump and household data starts on 01.01.2019)\n",
    "end_date = \"2020-02-02\"  # only consider charging sessions until this date; format: YYYY-MM-DD (end_date is not included, EV data ends on 31.01.2020, local time)\n",
    "\n",
    "tz_data = \"Europe/Berlin\"  # time zone of input data\n",
    "tz_output = \"UTC\"  # time zone of output data\n",
    "\n",
    "daterange = pd.date_range(start_date, end_date, freq=\"H\", inclusive=\"left\", tz=tz_output)  # hourly date range from start_date to end_date; time stamp indicates the start of a time interval"
   ],
   "metadata": {
    "collapsed": false
   }
  },
  {
   "cell_type": "code",
   "execution_count": 3,
   "id": "2c5cd973",
   "metadata": {},
   "outputs": [
    {
     "data": {
      "text/plain": "   session_ID Garage_ID User_ID User_type Shared_ID      Start_plugin  \\\n0           1      AdO3  AdO3-4   Private       NaN  21.12.2018 10:20   \n1           2      AdO3  AdO3-4   Private       NaN  21.12.2018 10:24   \n\n   Start_plugin_hour       End_plugout  End_plugout_hour El_kWh  \\\n0                 10  21.12.2018 10:23              10.0    0,3   \n1                 10  21.12.2018 10:32              10.0   0,87   \n\n  Duration_hours month_plugin weekdays_plugin      Plugin_category  \\\n0           0,05          Dec          Friday  late morning (9-12)   \n1    0,136666667          Dec          Friday  late morning (9-12)   \n\n   Duration_category  \n0  Less than 3 hours  \n1  Less than 3 hours  ",
      "text/html": "<div>\n<style scoped>\n    .dataframe tbody tr th:only-of-type {\n        vertical-align: middle;\n    }\n\n    .dataframe tbody tr th {\n        vertical-align: top;\n    }\n\n    .dataframe thead th {\n        text-align: right;\n    }\n</style>\n<table border=\"1\" class=\"dataframe\">\n  <thead>\n    <tr style=\"text-align: right;\">\n      <th></th>\n      <th>session_ID</th>\n      <th>Garage_ID</th>\n      <th>User_ID</th>\n      <th>User_type</th>\n      <th>Shared_ID</th>\n      <th>Start_plugin</th>\n      <th>Start_plugin_hour</th>\n      <th>End_plugout</th>\n      <th>End_plugout_hour</th>\n      <th>El_kWh</th>\n      <th>Duration_hours</th>\n      <th>month_plugin</th>\n      <th>weekdays_plugin</th>\n      <th>Plugin_category</th>\n      <th>Duration_category</th>\n    </tr>\n  </thead>\n  <tbody>\n    <tr>\n      <th>0</th>\n      <td>1</td>\n      <td>AdO3</td>\n      <td>AdO3-4</td>\n      <td>Private</td>\n      <td>NaN</td>\n      <td>21.12.2018 10:20</td>\n      <td>10</td>\n      <td>21.12.2018 10:23</td>\n      <td>10.0</td>\n      <td>0,3</td>\n      <td>0,05</td>\n      <td>Dec</td>\n      <td>Friday</td>\n      <td>late morning (9-12)</td>\n      <td>Less than 3 hours</td>\n    </tr>\n    <tr>\n      <th>1</th>\n      <td>2</td>\n      <td>AdO3</td>\n      <td>AdO3-4</td>\n      <td>Private</td>\n      <td>NaN</td>\n      <td>21.12.2018 10:24</td>\n      <td>10</td>\n      <td>21.12.2018 10:32</td>\n      <td>10.0</td>\n      <td>0,87</td>\n      <td>0,136666667</td>\n      <td>Dec</td>\n      <td>Friday</td>\n      <td>late morning (9-12)</td>\n      <td>Less than 3 hours</td>\n    </tr>\n  </tbody>\n</table>\n</div>"
     },
     "execution_count": 3,
     "metadata": {},
     "output_type": "execute_result"
    }
   ],
   "source": [
    "# read in the data\n",
    "ev_raw = pd.read_csv(path_ev_orig,sep=\";\")\n",
    "ev_raw.head(2)"
   ]
  },
  {
   "cell_type": "markdown",
   "source": [
    "Data types and removal of data that is not relevant"
   ],
   "metadata": {
    "collapsed": false
   }
  },
  {
   "cell_type": "code",
   "execution_count": 4,
   "id": "5933c7d4",
   "metadata": {},
   "outputs": [
    {
     "data": {
      "text/plain": "    session_ID Garage_ID User_ID              Start_plugin  Start_plugin_hour  \\\n13          14      AdO3  AdO3-4 2019-01-02 07:39:00+00:00                  8   \n14          15       Bl2   Bl2-4 2019-01-02 18:59:00+00:00                 19   \n\n                 End_plugout  End_plugout_hour  El_kWh  Duration_hours  \\\n13 2019-01-03 08:11:00+00:00               9.0   28.11       24.533889   \n14 2019-01-02 23:52:00+00:00               0.0   14.64        4.879722   \n\n     kWh/min        kW  \n13  0.019096  1.145762  \n14  0.050003  3.000171  ",
      "text/html": "<div>\n<style scoped>\n    .dataframe tbody tr th:only-of-type {\n        vertical-align: middle;\n    }\n\n    .dataframe tbody tr th {\n        vertical-align: top;\n    }\n\n    .dataframe thead th {\n        text-align: right;\n    }\n</style>\n<table border=\"1\" class=\"dataframe\">\n  <thead>\n    <tr style=\"text-align: right;\">\n      <th></th>\n      <th>session_ID</th>\n      <th>Garage_ID</th>\n      <th>User_ID</th>\n      <th>Start_plugin</th>\n      <th>Start_plugin_hour</th>\n      <th>End_plugout</th>\n      <th>End_plugout_hour</th>\n      <th>El_kWh</th>\n      <th>Duration_hours</th>\n      <th>kWh/min</th>\n      <th>kW</th>\n    </tr>\n  </thead>\n  <tbody>\n    <tr>\n      <th>13</th>\n      <td>14</td>\n      <td>AdO3</td>\n      <td>AdO3-4</td>\n      <td>2019-01-02 07:39:00+00:00</td>\n      <td>8</td>\n      <td>2019-01-03 08:11:00+00:00</td>\n      <td>9.0</td>\n      <td>28.11</td>\n      <td>24.533889</td>\n      <td>0.019096</td>\n      <td>1.145762</td>\n    </tr>\n    <tr>\n      <th>14</th>\n      <td>15</td>\n      <td>Bl2</td>\n      <td>Bl2-4</td>\n      <td>2019-01-02 18:59:00+00:00</td>\n      <td>19</td>\n      <td>2019-01-02 23:52:00+00:00</td>\n      <td>0.0</td>\n      <td>14.64</td>\n      <td>4.879722</td>\n      <td>0.050003</td>\n      <td>3.000171</td>\n    </tr>\n  </tbody>\n</table>\n</div>"
     },
     "execution_count": 4,
     "metadata": {},
     "output_type": "execute_result"
    }
   ],
   "source": [
    "ev = ev_raw.copy()\n",
    "\n",
    "# drop specified columns\n",
    "list_drop = [\"month_plugin\", \"weekdays_plugin\", \"Plugin_category\", \"Duration_category\", \"Shared_ID\"]\n",
    "ev.drop(columns=list_drop, inplace=True)\n",
    "\n",
    "# convert El_kWh and duration hours to float\n",
    "ev[\"El_kWh\"] = ev[\"El_kWh\"].str.replace(\",\", \".\")\n",
    "ev.El_kWh = ev.El_kWh.astype(float)\n",
    "ev[\"Duration_hours\"] = ev[\"Duration_hours\"].str.replace(\",\", \".\")\n",
    "ev.Duration_hours = ev.Duration_hours.astype(float)\n",
    "\n",
    "# drop rows with no end plugout time\n",
    "# from [1]: \"If the plug-out time is too early, compared to energy charged and maximum 11 kW charging power available, the plug-out time is removed (set to NA), since this indicates that the value is incorrect (relevant for 34 charging sessions).\"\n",
    "ev.dropna(subset=[\"End_plugout\"], inplace=True)\n",
    "\n",
    "# only keep private charging sessions; then drop column \"User_type\"\n",
    "ev = ev[ev[\"User_type\"] != \"Shared\"]\n",
    "assert list(ev[\"User_type\"].unique()) == [\"Private\"], \"Error: User_type should only contain 'Private'.\"\n",
    "ev = ev.drop(\"User_type\", axis=1)\n",
    "\n",
    "# format plug-in and plug-out time; change time zone to UTC\n",
    "# from [1]: \"In the data provided with this article, Central European Time (CET) zone is used, which is GMT +1. Daylight saving time (DST) applies.\" (it's a Norwegian dataset)\n",
    "for col in [\"Start_plugin\", \"End_plugout\"]:\n",
    "    ev[col] = pd.to_datetime(ev[col], format=\"%d.%m.%Y %H:%M\")\n",
    "    ev[col] = ev[col].dt.tz_localize(tz_data).dt.tz_convert(tz_output)\n",
    "\n",
    "# only consider charging sessions in defined time window\n",
    "ev = ev[ev[\"Start_plugin\"].dt.date.isin(daterange.date)]\n",
    "\n",
    "# add new column with kWh/min if charging was distributed equally over entire duration\n",
    "ev[\"kWh/min\"] = ev[\"El_kWh\"] / (ev[\"Duration_hours\"] * 60)\n",
    "\n",
    "# add new column with power in kW if charging was distributed equally over entire duration\n",
    "ev[\"kW\"] = ev[\"El_kWh\"] / ev[\"Duration_hours\"]\n",
    "\n",
    "ev.head(2)"
   ]
  },
  {
   "cell_type": "markdown",
   "source": [
    "Is each garage one charger or are there multiple chargers in one garage?"
   ],
   "metadata": {
    "collapsed": false
   }
  },
  {
   "cell_type": "code",
   "execution_count": 5,
   "outputs": [
    {
     "data": {
      "text/plain": "     session_ID Garage_ID User_ID              Start_plugin  \\\n250         251      AdO1  AdO1-2 2019-02-28 16:44:00+00:00   \n252         253      AdO1  AdO1-3 2019-02-28 18:02:00+00:00   \n254         255      AdO1  AdO1-1 2019-02-28 20:47:00+00:00   \n\n     Start_plugin_hour               End_plugout  End_plugout_hour  El_kWh  \\\n250                 17 2019-03-01 09:01:00+00:00              10.0    5.61   \n252                 19 2019-03-01 08:56:00+00:00               9.0   19.48   \n254                 21 2019-03-01 05:27:00+00:00               6.0   15.39   \n\n     Duration_hours   kWh/min        kW  \n250       16.286389  0.005741  0.344459  \n252       14.902222  0.021786  1.307188  \n254        8.653056  0.029643  1.778562  ",
      "text/html": "<div>\n<style scoped>\n    .dataframe tbody tr th:only-of-type {\n        vertical-align: middle;\n    }\n\n    .dataframe tbody tr th {\n        vertical-align: top;\n    }\n\n    .dataframe thead th {\n        text-align: right;\n    }\n</style>\n<table border=\"1\" class=\"dataframe\">\n  <thead>\n    <tr style=\"text-align: right;\">\n      <th></th>\n      <th>session_ID</th>\n      <th>Garage_ID</th>\n      <th>User_ID</th>\n      <th>Start_plugin</th>\n      <th>Start_plugin_hour</th>\n      <th>End_plugout</th>\n      <th>End_plugout_hour</th>\n      <th>El_kWh</th>\n      <th>Duration_hours</th>\n      <th>kWh/min</th>\n      <th>kW</th>\n    </tr>\n  </thead>\n  <tbody>\n    <tr>\n      <th>250</th>\n      <td>251</td>\n      <td>AdO1</td>\n      <td>AdO1-2</td>\n      <td>2019-02-28 16:44:00+00:00</td>\n      <td>17</td>\n      <td>2019-03-01 09:01:00+00:00</td>\n      <td>10.0</td>\n      <td>5.61</td>\n      <td>16.286389</td>\n      <td>0.005741</td>\n      <td>0.344459</td>\n    </tr>\n    <tr>\n      <th>252</th>\n      <td>253</td>\n      <td>AdO1</td>\n      <td>AdO1-3</td>\n      <td>2019-02-28 18:02:00+00:00</td>\n      <td>19</td>\n      <td>2019-03-01 08:56:00+00:00</td>\n      <td>9.0</td>\n      <td>19.48</td>\n      <td>14.902222</td>\n      <td>0.021786</td>\n      <td>1.307188</td>\n    </tr>\n    <tr>\n      <th>254</th>\n      <td>255</td>\n      <td>AdO1</td>\n      <td>AdO1-1</td>\n      <td>2019-02-28 20:47:00+00:00</td>\n      <td>21</td>\n      <td>2019-03-01 05:27:00+00:00</td>\n      <td>6.0</td>\n      <td>15.39</td>\n      <td>8.653056</td>\n      <td>0.029643</td>\n      <td>1.778562</td>\n    </tr>\n  </tbody>\n</table>\n</div>"
     },
     "execution_count": 5,
     "metadata": {},
     "output_type": "execute_result"
    }
   ],
   "source": [
    "# example to show that there must be multiple chargers in one garage\n",
    "# --> there are 3 different user IDs charging at the same time in garage \"AdO1\"\n",
    "ev[(ev[\"Garage_ID\"] == \"AdO1\") & (ev[\"Start_plugin\"].dt.date == datetime.date(2019, 2, 28))]\n",
    "\n",
    "# additionally, Dataset 2, which \"describes EV charging loads and non-charging idle capacity for each user and all EV charging sessions individually\" [1], columns are \"User_ID\", \"session_ID\", ..., i.e., it does not contain the garage ID"
   ],
   "metadata": {
    "collapsed": false
   }
  },
  {
   "cell_type": "markdown",
   "id": "56bcfefa",
   "metadata": {},
   "source": [
    "Create a dataframe for hourly charging processes"
   ]
  },
  {
   "cell_type": "code",
   "execution_count": 6,
   "outputs": [
    {
     "name": "stdout",
     "output_type": "stream",
     "text": [
      "Number of unique users:  56\n"
     ]
    }
   ],
   "source": [
    "# get all unique user IDs\n",
    "unique_users_ = sorted(ev[\"User_ID\"].unique())\n",
    "print(\"Number of unique users: \", len(unique_users_))"
   ],
   "metadata": {
    "collapsed": false
   }
  },
  {
   "cell_type": "code",
   "execution_count": 7,
   "outputs": [
    {
     "name": "stdout",
     "output_type": "stream",
     "text": [
      "Number of unique users left:  11\n"
     ]
    }
   ],
   "source": [
    "# only consider users that have at least one charging process in the first <n_weeks> weeks of date range and at least one charging process in the last <n_weeks> weeks of date range\n",
    "n_weeks = 8\n",
    "unique_users = []\n",
    "for u in unique_users_:\n",
    "    df_u = ev[ev[\"User_ID\"] == u]\n",
    "    if (df_u[\"Start_plugin\"].dt.date.isin(np.unique(daterange.date)[:n_weeks * 7]).any())\\\n",
    "            and (df_u[\"Start_plugin\"].dt.date.isin(np.unique(daterange.date)[-n_weeks * 7:]).any()):\n",
    "        unique_users.append(u)\n",
    "print(\"Number of unique users left: \", len(unique_users))"
   ],
   "metadata": {
    "collapsed": false
   }
  },
  {
   "cell_type": "code",
   "execution_count": 8,
   "outputs": [
    {
     "name": "stdout",
     "output_type": "stream",
     "text": [
      "List of overlapping charging processes:  [('AdO1-1', Timestamp('2020-01-18 23:11:00+0000', tz='UTC')), ('AdO1-1', Timestamp('2020-01-20 20:52:00+0000', tz='UTC')), ('AdO1-1', Timestamp('2020-01-21 20:51:00+0000', tz='UTC'))]\n"
     ]
    },
    {
     "data": {
      "text/plain": "                          AdO1-1                                     AdO1-2  \\\n                             kWh share_of_hour start hours_until_end    kWh   \n2019-01-01 00:00:00+00:00    0.0           0.0   0.0             0.0    0.0   \n2019-01-01 01:00:00+00:00    0.0           0.0   0.0             0.0    0.0   \n\n                                                              AdO3-2  \\\n                          share_of_hour start hours_until_end    kWh   \n2019-01-01 00:00:00+00:00           0.0   0.0             0.0    0.0   \n2019-01-01 01:00:00+00:00           0.0   0.0             0.0    0.0   \n\n                                         ... Bl2-4                 Bl2-5  \\\n                          share_of_hour  ... start hours_until_end   kWh   \n2019-01-01 00:00:00+00:00           0.0  ...   0.0             0.0   0.0   \n2019-01-01 01:00:00+00:00           0.0  ...   0.0             0.0   0.0   \n\n                                                              Bl2-6  \\\n                          share_of_hour start hours_until_end   kWh   \n2019-01-01 00:00:00+00:00           0.0   0.0             0.0   0.0   \n2019-01-01 01:00:00+00:00           0.0   0.0             0.0   0.0   \n\n                                                               \n                          share_of_hour start hours_until_end  \n2019-01-01 00:00:00+00:00           0.0   0.0             0.0  \n2019-01-01 01:00:00+00:00           0.0   0.0             0.0  \n\n[2 rows x 44 columns]",
      "text/html": "<div>\n<style scoped>\n    .dataframe tbody tr th:only-of-type {\n        vertical-align: middle;\n    }\n\n    .dataframe tbody tr th {\n        vertical-align: top;\n    }\n\n    .dataframe thead tr th {\n        text-align: left;\n    }\n</style>\n<table border=\"1\" class=\"dataframe\">\n  <thead>\n    <tr>\n      <th></th>\n      <th colspan=\"4\" halign=\"left\">AdO1-1</th>\n      <th colspan=\"4\" halign=\"left\">AdO1-2</th>\n      <th colspan=\"2\" halign=\"left\">AdO3-2</th>\n      <th>...</th>\n      <th colspan=\"2\" halign=\"left\">Bl2-4</th>\n      <th colspan=\"4\" halign=\"left\">Bl2-5</th>\n      <th colspan=\"4\" halign=\"left\">Bl2-6</th>\n    </tr>\n    <tr>\n      <th></th>\n      <th>kWh</th>\n      <th>share_of_hour</th>\n      <th>start</th>\n      <th>hours_until_end</th>\n      <th>kWh</th>\n      <th>share_of_hour</th>\n      <th>start</th>\n      <th>hours_until_end</th>\n      <th>kWh</th>\n      <th>share_of_hour</th>\n      <th>...</th>\n      <th>start</th>\n      <th>hours_until_end</th>\n      <th>kWh</th>\n      <th>share_of_hour</th>\n      <th>start</th>\n      <th>hours_until_end</th>\n      <th>kWh</th>\n      <th>share_of_hour</th>\n      <th>start</th>\n      <th>hours_until_end</th>\n    </tr>\n  </thead>\n  <tbody>\n    <tr>\n      <th>2019-01-01 00:00:00+00:00</th>\n      <td>0.0</td>\n      <td>0.0</td>\n      <td>0.0</td>\n      <td>0.0</td>\n      <td>0.0</td>\n      <td>0.0</td>\n      <td>0.0</td>\n      <td>0.0</td>\n      <td>0.0</td>\n      <td>0.0</td>\n      <td>...</td>\n      <td>0.0</td>\n      <td>0.0</td>\n      <td>0.0</td>\n      <td>0.0</td>\n      <td>0.0</td>\n      <td>0.0</td>\n      <td>0.0</td>\n      <td>0.0</td>\n      <td>0.0</td>\n      <td>0.0</td>\n    </tr>\n    <tr>\n      <th>2019-01-01 01:00:00+00:00</th>\n      <td>0.0</td>\n      <td>0.0</td>\n      <td>0.0</td>\n      <td>0.0</td>\n      <td>0.0</td>\n      <td>0.0</td>\n      <td>0.0</td>\n      <td>0.0</td>\n      <td>0.0</td>\n      <td>0.0</td>\n      <td>...</td>\n      <td>0.0</td>\n      <td>0.0</td>\n      <td>0.0</td>\n      <td>0.0</td>\n      <td>0.0</td>\n      <td>0.0</td>\n      <td>0.0</td>\n      <td>0.0</td>\n      <td>0.0</td>\n      <td>0.0</td>\n    </tr>\n  </tbody>\n</table>\n<p>2 rows × 44 columns</p>\n</div>"
     },
     "execution_count": 8,
     "metadata": {},
     "output_type": "execute_result"
    }
   ],
   "source": [
    "# initialize dataframe with zeros\n",
    "col_per_user = [\"kWh\",  # kWh charged in this hour\n",
    "                \"share_of_hour\",  # how long is the EV plugged-in in this hour; e.g.: 0.5 means 30 minutes\n",
    "                \"start\",  # indicates if a charging process starts in this hour; 1 if yes, 0 if no\n",
    "                \"hours_until_end\",  # how many hours does the charging process last (in the same row where \"start\" is 1); e.g., if charging process starts at 10:10 and ends at 12:30, then \"hours_until_end\" is 2\n",
    "                ]\n",
    "columns = pd.MultiIndex.from_product([unique_users, col_per_user])\n",
    "ev_hourly = pd.DataFrame(np.zeros((len(daterange),len(unique_users) * len(col_per_user))) , index=daterange, columns=columns)\n",
    "\n",
    "# iterate over all user IDs\n",
    "list_same_hour = []\n",
    "list_overlapping = []\n",
    "for u in unique_users:\n",
    "    idx_last_start = None # start HOUR of last charging process\n",
    "    ts_last_end = None  # end TIMESTAMP of last charging process\n",
    "\n",
    "    # get all charging processes of one user\n",
    "    df_u = ev[ev[\"User_ID\"] == u]\n",
    "\n",
    "    # iterate over all charging processes of one user\n",
    "    for _, c in df_u.iterrows():\n",
    "        c = c.to_dict()\n",
    "\n",
    "        # check for overlapping charging processes for the same user ID; example: AdO1 on 17.01.2020\n",
    "        # --> only the first charging process is considered\n",
    "        if ts_last_end is not None and c[\"Start_plugin\"] < ts_last_end:\n",
    "            list_overlapping.append((u, c[\"Start_plugin\"]))\n",
    "            continue\n",
    "        else:\n",
    "            # define start and end date and hour\n",
    "            s = c[\"Start_plugin\"].replace(minute=0)\n",
    "            e = c[\"End_plugout\"].replace(minute=0)\n",
    "\n",
    "            # iterate over all indexes of the dataframe ev_hourly\n",
    "            for idx in ev_hourly.index:\n",
    "                # if idx >= s (plug-in hour) and <= e (plug-out hour), then the EV is charging in that time interval\n",
    "                if s <= idx <= e:\n",
    "                    # if charging process starts in this hour, set \"start\" to 1 and compute \"hours_until_end\"\n",
    "                    # note: there can be edge cases where\n",
    "                    # 1) two charging processes start in the same hour (first one very short)\n",
    "                    # 2) one charging process ends and another one starts in the same hour\n",
    "                    # in these cases, the 2 charging processes are considered as one; value \"hours_until_end\" is the sum of the two charging processes\n",
    "                    if idx == s:\n",
    "                        hours_until_end = (e - s).days * 24 + (e - s).seconds / 3600\n",
    "                        if idx_last_start is None or idx > idx_last_start + datetime.timedelta(hours=ev_hourly.loc[idx_last_start, (u, \"hours_until_end\")]): # no edge case\n",
    "                            ev_hourly.loc[idx, (u, \"start\")] = 1\n",
    "                            ev_hourly.loc[idx, (u, \"hours_until_end\")] = hours_until_end\n",
    "                            idx_last_start = idx\n",
    "                        else:  # edge case --> consider the two charging processes as one\n",
    "                            ev_hourly.loc[idx_last_start, (u, \"hours_until_end\")] += hours_until_end\n",
    "                            list_same_hour.append((idx_last_start, u))\n",
    "\n",
    "                    # compute the number of minutes for which the EV is plugged-in in the current hour\n",
    "                    if idx == s and s != e:  # charging process starts in this hour, but ends in another hour\n",
    "                        minutes = 60 - c[\"Start_plugin\"].minute\n",
    "                    elif idx == e and e == s:  # charging process starts and ends in this hour\n",
    "                        minutes = c[\"End_plugout\"].minute - c[\"Start_plugin\"].minute\n",
    "                    elif idx == e and s != e:  # charging process ends in this hour, but has started in another hour\n",
    "                        minutes = c[\"End_plugout\"].minute\n",
    "                    else:  # charging process starts and ends in another hour\n",
    "                        minutes = 60\n",
    "\n",
    "                    # add the charged energy and share of hour to the dataframe\n",
    "                    # note: values are added to the current value in the dataframe as there can be multiple charging processes in the same hour\n",
    "                    ev_hourly.loc[idx, (u, \"kWh\")] = ev_hourly.loc[idx, (u, \"kWh\")] + minutes * c[\"kWh/min\"]\n",
    "                    ev_hourly.loc[idx, (u, \"share_of_hour\")] = ev_hourly.loc[idx, (u, \"share_of_hour\")] + minutes / 60\n",
    "\n",
    "            # update last end time\n",
    "            ts_last_end = c[\"End_plugout\"]\n",
    "\n",
    "# print(\"List of indices to check for edge cases: \", list_same_hour)\n",
    "print(\"List of overlapping charging processes: \", list_overlapping)\n",
    "ev_hourly.head(2)"
   ],
   "metadata": {
    "collapsed": false
   }
  },
  {
   "cell_type": "markdown",
   "id": "7e750bca",
   "metadata": {},
   "source": [
    "Save the edited data as csv"
   ]
  },
  {
   "cell_type": "code",
   "execution_count": 10,
   "id": "88c956d8",
   "metadata": {},
   "outputs": [],
   "source": [
    "ev_hourly.to_csv('Hourly_EV_Charging_KK.csv', sep=\";\")"
   ]
  },
  {
   "cell_type": "markdown",
   "source": [
    "How to filter in multi-index"
   ],
   "metadata": {
    "collapsed": false
   }
  },
  {
   "cell_type": "code",
   "execution_count": 19,
   "outputs": [
    {
     "data": {
      "text/plain": "2019-01-01 00:00:00+00:00    0.0\n2019-01-01 01:00:00+00:00    0.0\n2019-01-01 02:00:00+00:00    0.0\n2019-01-01 03:00:00+00:00    0.0\n2019-01-01 04:00:00+00:00    0.0\nFreq: H, Name: (AdO1-1, kWh), dtype: float64"
     },
     "execution_count": 19,
     "metadata": {},
     "output_type": "execute_result"
    }
   ],
   "source": [
    "# one specific user\n",
    "ev_hourly.loc[:, (unique_users[0], \"kWh\")].head(5)"
   ],
   "metadata": {
    "collapsed": false
   }
  },
  {
   "cell_type": "code",
   "execution_count": 20,
   "outputs": [
    {
     "data": {
      "text/plain": "                           AdO1-1  AdO1-2  AdO3-2  AdO3-3  AdO3-4  AsO2-1  \\\n2019-01-01 00:00:00+00:00     0.0     0.0     0.0     0.0     0.0     0.0   \n2019-01-01 01:00:00+00:00     0.0     0.0     0.0     0.0     0.0     0.0   \n\n                           Bl2-1  Bl2-2  Bl2-4  Bl2-5  Bl2-6  \n2019-01-01 00:00:00+00:00    0.0    0.0    0.0    0.0    0.0  \n2019-01-01 01:00:00+00:00    0.0    0.0    0.0    0.0    0.0  ",
      "text/html": "<div>\n<style scoped>\n    .dataframe tbody tr th:only-of-type {\n        vertical-align: middle;\n    }\n\n    .dataframe tbody tr th {\n        vertical-align: top;\n    }\n\n    .dataframe thead th {\n        text-align: right;\n    }\n</style>\n<table border=\"1\" class=\"dataframe\">\n  <thead>\n    <tr style=\"text-align: right;\">\n      <th></th>\n      <th>AdO1-1</th>\n      <th>AdO1-2</th>\n      <th>AdO3-2</th>\n      <th>AdO3-3</th>\n      <th>AdO3-4</th>\n      <th>AsO2-1</th>\n      <th>Bl2-1</th>\n      <th>Bl2-2</th>\n      <th>Bl2-4</th>\n      <th>Bl2-5</th>\n      <th>Bl2-6</th>\n    </tr>\n  </thead>\n  <tbody>\n    <tr>\n      <th>2019-01-01 00:00:00+00:00</th>\n      <td>0.0</td>\n      <td>0.0</td>\n      <td>0.0</td>\n      <td>0.0</td>\n      <td>0.0</td>\n      <td>0.0</td>\n      <td>0.0</td>\n      <td>0.0</td>\n      <td>0.0</td>\n      <td>0.0</td>\n      <td>0.0</td>\n    </tr>\n    <tr>\n      <th>2019-01-01 01:00:00+00:00</th>\n      <td>0.0</td>\n      <td>0.0</td>\n      <td>0.0</td>\n      <td>0.0</td>\n      <td>0.0</td>\n      <td>0.0</td>\n      <td>0.0</td>\n      <td>0.0</td>\n      <td>0.0</td>\n      <td>0.0</td>\n      <td>0.0</td>\n    </tr>\n  </tbody>\n</table>\n</div>"
     },
     "execution_count": 20,
     "metadata": {},
     "output_type": "execute_result"
    }
   ],
   "source": [
    "# all users, but only kWh\n",
    "ev_hourly.loc[:, pd.IndexSlice[:, \"kWh\"]].droplevel(axis=1, level=1).head(2)"
   ],
   "metadata": {
    "collapsed": false
   }
  },
  {
   "cell_type": "markdown",
   "source": [
    "Maximum charging for each user"
   ],
   "metadata": {
    "collapsed": false
   }
  },
  {
   "cell_type": "code",
   "execution_count": 25,
   "outputs": [
    {
     "name": "stdout",
     "output_type": "stream",
     "text": [
      "Max. charging power for user AdO1-1: 3.649962919723489\n",
      "Max. charging power for user AdO1-2: 3.0641048671040707\n",
      "Max. charging power for user AdO3-2: 3.754403423076748\n",
      "Max. charging power for user AdO3-3: 3.6807663223062574\n",
      "Max. charging power for user AdO3-4: 6.685362516871225\n",
      "Max. charging power for user AsO2-1: 3.573788459585214\n",
      "Max. charging power for user Bl2-1: 3.6081151377281735\n",
      "Max. charging power for user Bl2-2: 3.671564389396174\n",
      "Max. charging power for user Bl2-4: 6.710458081244598\n",
      "Max. charging power for user Bl2-5: 3.6621880991051468\n",
      "Max. charging power for user Bl2-6: 3.5791706841150748\n"
     ]
    }
   ],
   "source": [
    "for u in unique_users:\n",
    "    print(f\"Max. charging power for user {u}: {ev_hourly.loc[:, (u, 'kWh')].max()}\")"
   ],
   "metadata": {
    "collapsed": false
   }
  },
  {
   "cell_type": "code",
   "execution_count": null,
   "outputs": [],
   "source": [],
   "metadata": {
    "collapsed": false
   }
  }
 ],
 "metadata": {
  "kernelspec": {
   "display_name": "Python 3",
   "language": "python",
   "name": "python3"
  },
  "language_info": {
   "codemirror_mode": {
    "name": "ipython",
    "version": 3
   },
   "file_extension": ".py",
   "mimetype": "text/x-python",
   "name": "python",
   "nbconvert_exporter": "python",
   "pygments_lexer": "ipython3",
   "version": "3.8.8"
  }
 },
 "nbformat": 4,
 "nbformat_minor": 5
}
